{
 "cells": [
  {
   "cell_type": "code",
   "execution_count": 1,
   "metadata": {},
   "outputs": [],
   "source": [
    "# this is the library that we will use to create break times in order to mimic human behaviour \n",
    "import time\n",
    "\n",
    "# this library will be used for getting your credentials but keeping them hidden in the script \n",
    "from getpass import getpass\n",
    "\n",
    "# these are the Classes we will use for interaction with a webpage\n",
    "from selenium import webdriver\n",
    "from selenium.webdriver.common.keys import Keys\n",
    "from selenium.webdriver.common.by import By\n",
    "from selenium.webdriver.chrome.service import Service\n",
    "#from webdriver_manager.chrome import ChromeDriverManager\n",
    "\n",
    "\n",
    "# library for interacting with the operating system\n",
    "import os\n",
    "\n",
    "# you know pandas it's your best buddy \n",
    "import pandas as pd"
   ]
  },
  {
   "cell_type": "code",
   "execution_count": 2,
   "metadata": {},
   "outputs": [],
   "source": [
    "# open the webdriver\n",
    "url = 'https://twitter.com/login'\n",
    "driver = webdriver.Chrome('chromedriver')\n",
    "driver.get(url)"
   ]
  },
  {
   "cell_type": "markdown",
   "metadata": {},
   "source": [
    "### Login"
   ]
  },
  {
   "cell_type": "code",
   "execution_count": 3,
   "metadata": {},
   "outputs": [],
   "source": [
    "username = input('Enter your username: ')\n",
    "username_box = driver.find_element(By.TAG_NAME, \"input\")\n",
    "\n",
    "#clear the search box if it has already something in there\n",
    "username_box.clear()\n",
    "\n",
    "# with the method send_keys() you can send the information from the script to the webpage\n",
    "username_box.send_keys(username)\n",
    "time.sleep(2)\n",
    "\n",
    "username_box.send_keys(Keys.ENTER)\n",
    "# or\n",
    "#login = driver.find_elements(By.XPATH, \"//div[@role='button'][@tabindex='0']\")[2]"
   ]
  },
  {
   "cell_type": "code",
   "execution_count": 5,
   "metadata": {},
   "outputs": [],
   "source": [
    "password = getpass('Enter your password: ')\n",
    "\n",
    "pass_box = driver.find_elements(By.TAG_NAME, \"input\")[1]\n",
    "\n",
    "#clear the paword box if it has already something in there\n",
    "pass_box.clear()\n",
    "\n",
    "# here we will send the password to the driver \n",
    "pass_box.send_keys(password)\n",
    "time.sleep(1)\n",
    "\n",
    "pass_box.send_keys(Keys.ENTER)"
   ]
  },
  {
   "cell_type": "markdown",
   "metadata": {},
   "source": [
    "### Explore"
   ]
  },
  {
   "cell_type": "code",
   "execution_count": 6,
   "metadata": {},
   "outputs": [],
   "source": [
    "# explore icon\n",
    "explore_icon = driver.find_element(By.XPATH, \"//a[@href='/explore']\")\n",
    "explore_icon.click()\n",
    "time.sleep(2)"
   ]
  },
  {
   "cell_type": "code",
   "execution_count": 7,
   "metadata": {},
   "outputs": [],
   "source": [
    "# search query\n",
    "search = input('Enter a username: ')\n",
    "\n",
    "search_bar = driver.find_element(By.XPATH, \"//input[@aria-label='Search query']\")\n",
    "\n",
    "search_bar.clear()\n",
    "\n",
    "search_bar.send_keys(search)\n",
    "time.sleep(3)\n",
    "\n",
    "# click on the first profile\n",
    "user_profile = driver.find_element(By.XPATH, \"//div[@data-testid='TypeaheadUser']\")\n",
    "user_profile.click()\n",
    "time.sleep(2)"
   ]
  },
  {
   "cell_type": "markdown",
   "metadata": {},
   "source": [
    "### Extract the tweets"
   ]
  },
  {
   "cell_type": "code",
   "execution_count": 12,
   "metadata": {},
   "outputs": [],
   "source": [
    "# scroll down \n",
    "driver.execute_script(\"window.scrollBy(0,500)\",\"\")"
   ]
  },
  {
   "cell_type": "code",
   "execution_count": 9,
   "metadata": {},
   "outputs": [],
   "source": [
    "# function\n",
    "def scrap_tweets(count):\n",
    "    tweets_li = []\n",
    "    for i in range(count):\n",
    "        try:\n",
    "            # driver.execute_script(\"window.scrollBy(0,600)\",\"\")\n",
    "            # time.sleep(1)\n",
    "            \n",
    "            tweets = driver.find_elements(By.XPATH, \"//div[@data-testid='tweetText']\")[i]\n",
    "            tweets.click()\n",
    "\n",
    "            time.sleep(2)\n",
    "\n",
    "            user = driver.find_element(By.XPATH, \"//div[@dir='ltr']\")\n",
    "            username = user.find_element(By.TAG_NAME, \"span\")\n",
    "            usernametxt = username.text\n",
    "\n",
    "            tweets = driver.find_element(By.XPATH, \"//div[@data-testid='tweetText']\")\n",
    "            tweet_text = tweets.find_elements(By.TAG_NAME, \"span\")\n",
    "            alist = []\n",
    "            for tw in tweet_text:\n",
    "                alist.append(tw.text)\n",
    "\n",
    "            twtxt = ' '.join(alist)\n",
    "\n",
    "            anothalist = []\n",
    "            tweet_link = tweets.find_elements(By.TAG_NAME, 'a')\n",
    "            for tw in tweet_link:\n",
    "                anothalist.append(tw.text)\n",
    "\n",
    "            twlink = ', '.join(anothalist)\n",
    "        \n",
    "\n",
    "            tweets_li.append({'username': usernametxt, 'text': twtxt, 'link': twlink})\n",
    "            time.sleep(2)\n",
    "\n",
    "            back = driver.find_element(By.XPATH, \"//div[@aria-label='Back'][@role='button']\")\n",
    "            back.click()\n",
    "\n",
    "            time.sleep(2)\n",
    "        except IndexError:\n",
    "            driver.execute_script(\"window.scrollBy(0,1000)\",\"\")\n",
    "            time.sleep(2)\n",
    "\n",
    "    \n",
    "    return tweets_li\n",
    "    "
   ]
  },
  {
   "cell_type": "code",
   "execution_count": 13,
   "metadata": {},
   "outputs": [
    {
     "name": "stdout",
     "output_type": "stream",
     "text": [
      "done!\n"
     ]
    }
   ],
   "source": [
    "# ask how many tweets the user wants to scrap\n",
    "inp = int(input('How many tweets do you want to scrap?: '))\n",
    "tweets = scrap_tweets(inp)\n",
    "print('done!')"
   ]
  },
  {
   "cell_type": "code",
   "execution_count": 14,
   "metadata": {},
   "outputs": [
    {
     "data": {
      "text/html": [
       "<div>\n",
       "<style scoped>\n",
       "    .dataframe tbody tr th:only-of-type {\n",
       "        vertical-align: middle;\n",
       "    }\n",
       "\n",
       "    .dataframe tbody tr th {\n",
       "        vertical-align: top;\n",
       "    }\n",
       "\n",
       "    .dataframe thead th {\n",
       "        text-align: right;\n",
       "    }\n",
       "</style>\n",
       "<table border=\"1\" class=\"dataframe\">\n",
       "  <thead>\n",
       "    <tr style=\"text-align: right;\">\n",
       "      <th></th>\n",
       "      <th>username</th>\n",
       "      <th>text</th>\n",
       "      <th>link</th>\n",
       "    </tr>\n",
       "  </thead>\n",
       "  <tbody>\n",
       "    <tr>\n",
       "      <th>0</th>\n",
       "      <td>@carlosguardiola</td>\n",
       "      <td>Genial haber compartido en Business Connection...</td>\n",
       "      <td>@negocios_tv</td>\n",
       "    </tr>\n",
       "    <tr>\n",
       "      <th>1</th>\n",
       "      <td>@ironhack</td>\n",
       "      <td>Consider this your  #invitation  to  #Ironhac...</td>\n",
       "      <td>#invitation, #IronhackDataWeek, #April, #data,...</td>\n",
       "    </tr>\n",
       "    <tr>\n",
       "      <th>2</th>\n",
       "      <td>@ironhack</td>\n",
       "      <td>Time to demystify    #APIs .\\nIf you’ve ever b...</td>\n",
       "      <td>#APIs, #holiday, #weather, #webdevelopment, ht...</td>\n",
       "    </tr>\n",
       "  </tbody>\n",
       "</table>\n",
       "</div>"
      ],
      "text/plain": [
       "           username                                               text  \\\n",
       "0  @carlosguardiola  Genial haber compartido en Business Connection...   \n",
       "1         @ironhack   Consider this your  #invitation  to  #Ironhac...   \n",
       "2         @ironhack  Time to demystify    #APIs .\\nIf you’ve ever b...   \n",
       "\n",
       "                                                link  \n",
       "0                                       @negocios_tv  \n",
       "1  #invitation, #IronhackDataWeek, #April, #data,...  \n",
       "2  #APIs, #holiday, #weather, #webdevelopment, ht...  "
      ]
     },
     "execution_count": 14,
     "metadata": {},
     "output_type": "execute_result"
    }
   ],
   "source": [
    "tweets_df = pd.DataFrame(tweets)\n",
    "tweets_df"
   ]
  },
  {
   "cell_type": "code",
   "execution_count": 15,
   "metadata": {},
   "outputs": [],
   "source": [
    "driver.close()"
   ]
  }
 ],
 "metadata": {
  "interpreter": {
   "hash": "230cc8c7cdd077aa88b3561628854d7083ae07a0dff34af51f1b75b7358a6b25"
  },
  "kernelspec": {
   "display_name": "Python 3.9.7 ('ironhack')",
   "language": "python",
   "name": "python3"
  },
  "language_info": {
   "codemirror_mode": {
    "name": "ipython",
    "version": 3
   },
   "file_extension": ".py",
   "mimetype": "text/x-python",
   "name": "python",
   "nbconvert_exporter": "python",
   "pygments_lexer": "ipython3",
   "version": "3.9.7"
  },
  "orig_nbformat": 4
 },
 "nbformat": 4,
 "nbformat_minor": 2
}
